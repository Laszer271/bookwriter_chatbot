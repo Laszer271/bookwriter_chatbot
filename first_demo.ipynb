{
 "cells": [
  {
   "cell_type": "code",
   "execution_count": 171,
   "id": "0a6089ef-a447-48b4-b5e5-6797e8086fa0",
   "metadata": {
    "tags": []
   },
   "outputs": [],
   "source": [
    "from langchain.chains import RetrievalQA\n",
    "from langchain.chat_models import ChatOpenAI\n",
    "from langchain.vectorstores import DocArrayInMemorySearch\n",
    "\n",
    "from langchain.document_loaders import PyPDFDirectoryLoader\n",
    "# from langchain.indexes import VectorstoreIndexCreator\n",
    "\n",
    "from langchain.embeddings.openai import OpenAIEmbeddings\n",
    "from langchain.embeddings import HuggingFaceEmbeddings\n",
    "from langchain import LLMChain\n",
    "from langchain.chains import SequentialChain\n",
    "from langchain.chains import TransformChain\n",
    "from langchain.prompts import PromptTemplate\n",
    "\n",
    "from langchain.callbacks.streaming_stdout import StreamingStdOutCallbackHandler\n",
    "from langchain.schema import SystemMessage, AIMessage, HumanMessage\n",
    "from langchain.prompts import ChatPromptTemplate\n",
    "from langchain.prompts import SystemMessagePromptTemplate\n",
    "from langchain.prompts import HumanMessagePromptTemplate\n",
    "from langchain.prompts import AIMessagePromptTemplate\n",
    "from langchain.prompts.example_selector import LengthBasedExampleSelector\n",
    "\n",
    "from langchain.output_parsers import CommaSeparatedListOutputParser\n",
    "\n",
    "\n",
    "from IPython.display import display, Markdown"
   ]
  },
  {
   "cell_type": "code",
   "execution_count": 172,
   "id": "d75e7e8c",
   "metadata": {},
   "outputs": [],
   "source": [
    "import langchain\n",
    "langchain.debug = False"
   ]
  },
  {
   "cell_type": "code",
   "execution_count": 173,
   "id": "6856315b",
   "metadata": {},
   "outputs": [],
   "source": [
    "import os\n",
    "with open('openai_api_key.txt', 'r') as f:\n",
    "    os.environ[\"OPENAI_API_KEY\"] = f.read()\n",
    "os.environ[\"LANGCHAIN_TRACING_V2\"] = \"true\"\n"
   ]
  },
  {
   "cell_type": "code",
   "execution_count": 174,
   "id": "28150c46-895b-4ebc-bada-51269103c809",
   "metadata": {
    "tags": []
   },
   "outputs": [],
   "source": [
    "# file = './resources'\n",
    "# loader = PyPDFDirectoryLoader(file)\n",
    "# pages = loader.load_and_split()\n",
    "\n",
    "# embeddings = HuggingFaceEmbeddings()\n",
    "# db = DocArrayInMemorySearch.from_documents(pages, embeddings)"
   ]
  },
  {
   "cell_type": "code",
   "execution_count": 175,
   "id": "cbe37ec4-224a-4f9c-928d-16a5dd766d01",
   "metadata": {},
   "outputs": [],
   "source": [
    "llm = ChatOpenAI(temperature=0.0)\n",
    "llm_streaming = ChatOpenAI(temperature=0.5, streaming=True, callbacks=[StreamingStdOutCallbackHandler()])\n"
   ]
  },
  {
   "cell_type": "code",
   "execution_count": 176,
   "id": "7bcb2c2e",
   "metadata": {},
   "outputs": [],
   "source": [
    "n_queries = 4\n",
    "n_answers = 2\n",
    "system_template = f'''\n",
    "You are a teacher assistant in a class for teaching writers how to write. You are really\n",
    "skilled with using technology to do your job for you. When you are asked a question you generate a number of queries to use against \n",
    "a database containing books on good writing. Make sure that your queries answer the essence of the question rather\n",
    "than quering some less relevant information that is contained in the question. That's especially important for long questions\n",
    "with that have some setup before the actual question is asked.\n",
    "You are not supposed to answer the question yourself, but rather to find the best queries that answer the question for you.\n",
    "Queries answers will be chosen based on semantic similarity to the question so make sure the queries stay relevant and sensible. \n",
    "Answer with {n_queries} queries separated by commas as this is the format the search engine accepts, do not use numbered list,\n",
    "do not put the queries in quotes.\n",
    "'''\n",
    "system_template = SystemMessagePromptTemplate.from_template(system_template)\n",
    "question = '{question}'\n",
    "question = HumanMessagePromptTemplate.from_template(question)\n",
    "\n",
    "output_parser = CommaSeparatedListOutputParser()\n",
    "format_instructions = output_parser.get_format_instructions()\n",
    "\n",
    "answer = 'I must list between ' + str(n_queries) + ''' short queries. They need to be relevant to the question\n",
    " but also different from each other to cover wide array of search results.\\n\n",
    "{format_instructions}\n",
    "'''\n",
    "answer = PromptTemplate(template=answer, input_variables=[], partial_variables={\"format_instructions\": format_instructions})\n",
    "answer = AIMessagePromptTemplate(prompt=answer)\n",
    "\n",
    "chat_prompt = ChatPromptTemplate.from_messages([system_template, question, answer])"
   ]
  },
  {
   "cell_type": "code",
   "execution_count": 177,
   "id": "d769488c",
   "metadata": {},
   "outputs": [],
   "source": [
    "first_chain = LLMChain(llm=llm, prompt=chat_prompt, output_key='queries')"
   ]
  },
  {
   "cell_type": "code",
   "execution_count": 178,
   "id": "164c8a6c",
   "metadata": {},
   "outputs": [],
   "source": [
    "def query_db(d: dict) -> str:\n",
    "    queries = d['queries']\n",
    "    queries = output_parser.parse(queries)\n",
    "    assert len(queries) == n_queries, f'Expected {n_queries} queries, got {len(queries)}'\n",
    "    results = []\n",
    "    for q in queries:\n",
    "        query_result = db.similarity_search(q, k=n_answers)\n",
    "        results.extend(query_result)\n",
    "    assert len(results) == n_answers * n_queries\n",
    "\n",
    "    results = '\\n\\n'.join([f'{i+1}.\\n{r.page_content}' for i, r in enumerate(results)])\n",
    "    d['context'] = results\n",
    "    d['queries'] = [f'{i+1}. {q.capitalize()}' for i, q in enumerate(queries)]\n",
    "    return d"
   ]
  },
  {
   "cell_type": "code",
   "execution_count": 179,
   "id": "2578be31",
   "metadata": {},
   "outputs": [],
   "source": [
    "transform_chain = TransformChain(\n",
    "    input_variables=[\"queries\"],\n",
    "    output_variables=[\"context\"],\n",
    "    transform=query_db\n",
    ")"
   ]
  },
  {
   "cell_type": "code",
   "execution_count": 198,
   "id": "2035bf2b",
   "metadata": {},
   "outputs": [],
   "source": [
    "system_template = '''\n",
    "Given a question and a bunch of contexts returned by the search engine, you need to summarize each context.\n",
    "If some of the ''' + str(n_queries * n_answers) + \\\n",
    "''' contexts is not understadable or irrlevant, you can skip it. Otherwise, you need to summarize it in 1-2 sentences.\n",
    "You don't need to summarize the whole context, just extract the most important information in relation to the question.\n",
    "Numerate the resulting summaries. If you skip a context, just leave the number empty. \n",
    "\n",
    "Question given:\n",
    "{question}\n",
    "\n",
    "Contexts given:\n",
    "{context}\n",
    "'''\n",
    "system_template = SystemMessagePromptTemplate.from_template(system_template)\n",
    "chat_prompt = ChatPromptTemplate.from_messages([system_template])\n",
    "\n",
    "summ_chain = LLMChain(llm=llm_streaming, prompt=chat_prompt, output_key='context_summaries')"
   ]
  },
  {
   "cell_type": "code",
   "execution_count": 199,
   "id": "d1412104",
   "metadata": {},
   "outputs": [],
   "source": [
    "system_template = '''\n",
    "You are a renown writer and are tutoring some students. You need to help them by answering their questions, helping them develop their skills\n",
    "and giving them a valuable feedback on their work. You also have a bunch of helpful materials and books that help you answering their questions.\n",
    "You are not supposed to give suggestions that are irrelevant to the question. Try to answer the specific question as best as you can.\n",
    "If some materials given to you are irrelevant then disregard them rather than trying to include them in your answer.\n",
    "Do not repeat yourself. Your answer should be shorter than the contexts given to you so do not try to paraphrase them. \n",
    "'''\n",
    "system_template = SystemMessagePromptTemplate.from_template(system_template)\n",
    "question = '{question}'\n",
    "question = HumanMessagePromptTemplate.from_template(question)\n",
    "\n",
    "system_help = '''\n",
    "Your assistant provided you some summaries from various sources that might help you answer the question.\n",
    "Take a look at them and use them to answer the question based on the information they provide and your own deep knowledge.\n",
    "Sources: \n",
    "{context_summaries}\n",
    "\\n\n",
    "'''\n",
    "system_help = SystemMessagePromptTemplate.from_template(system_help)\n",
    "\n",
    "chat_prompt = ChatPromptTemplate.from_messages([system_template, question, system_help])\n",
    "final_chain = LLMChain(llm=llm_streaming, prompt=chat_prompt, output_key='result')\n",
    "# messages = chat_prompt.format_prompt(question='What is the difference between a good and a bad writer?').to_messages()"
   ]
  },
  {
   "cell_type": "code",
   "execution_count": 200,
   "id": "e55141c9",
   "metadata": {},
   "outputs": [],
   "source": [
    "chain_whole = SequentialChain(chains=[first_chain, transform_chain, summ_chain, final_chain],\n",
    "                              input_variables=[\"question\"], output_variables=['queries', 'context_summaries', 'result'])"
   ]
  },
  {
   "cell_type": "code",
   "execution_count": 201,
   "id": "895f35b7",
   "metadata": {},
   "outputs": [
    {
     "name": "stdout",
     "output_type": "stream",
     "text": [
      "1. A checklist for self-publishing includes identifying publishing goals, being prepared to devote time and energy to publicity and marketing, hiring professionals for quality, and having a marketing plan.\n",
      "2. Self-publishing can be quick and easy, but if you are contemplating a career as an author, self-publishing your book may have unintended consequences on your future publishing endeavors.\n",
      "3. Self-publishing has a lack of distribution, which is almost impossible for your work to reach its market without strong distribution channels.\n",
      "6. If you do decide to self-publish and want to maximize sales, develop a plan and strategy for producing a readable, attractive book and getting it out there. \n",
      "7. Some online companies offer an excellent package for self-publishing, including print-on-demand and electronic formats, with royalties of 20% or 50%.\n",
      "8. Independent publishers can get books out sooner than larger houses and must make every book count, which can mean a lot to you over time.Starting self-publishing can be a quick and easy process, but it is important to keep in mind your publishing goals and to be prepared to devote time and energy to publicity and marketing. If you are contemplating a career as an author, self-publishing your book may have unintended consequences on your future publishing endeavors. One of the biggest challenges of self-publishing is the lack of distribution. Without strong distribution channels, it can be almost impossible for your work to reach its market. However, some online companies offer excellent packages for self-publishing, including print-on-demand and electronic formats, with royalties of 20% or 50%. If you do decide to self-publish and want to maximize sales, develop a plan and strategy for producing a readable, attractive book and getting it out there. Additionally, hiring professionals for quality and having a marketing plan can be beneficial. Independent publishers can get books out sooner than larger houses and must make every book count, which can mean a lot to you over time."
     ]
    }
   ],
   "source": [
    "question = '''\n",
    "I read a book in which the characters have to make a journey through desolate and dangerous desert which at night turns into \n",
    "a dark ocean. The book kept me on edge consantly. There was danger and challenge in traversing the desert during day. \n",
    "There was unease and fear with a feeling of dark foreboding when characters hid from the rushing ocean at night.\n",
    "The ocean was ominous with many hidden monstrous leviathans lurking beneath the surface.\n",
    "\n",
    "I want to create a similar feeling in my own writing. How can I do that? What setup would work best? I want my work to be original\n",
    "but also to be inspired by the book I read, mimicking the feeling of unease and danger.\n",
    "'''\n",
    "question = '''What's the best method to start self-publishing?'''\n",
    "response = chain_whole(dict(question=question))"
   ]
  },
  {
   "cell_type": "code",
   "execution_count": 202,
   "id": "8bab0aed",
   "metadata": {},
   "outputs": [
    {
     "data": {
      "text/markdown": [
       "Starting self-publishing can be a quick and easy process, but it is important to keep in mind your publishing goals and to be prepared to devote time and energy to publicity and marketing. If you are contemplating a career as an author, self-publishing your book may have unintended consequences on your future publishing endeavors. One of the biggest challenges of self-publishing is the lack of distribution. Without strong distribution channels, it can be almost impossible for your work to reach its market. However, some online companies offer excellent packages for self-publishing, including print-on-demand and electronic formats, with royalties of 20% or 50%. If you do decide to self-publish and want to maximize sales, develop a plan and strategy for producing a readable, attractive book and getting it out there. Additionally, hiring professionals for quality and having a marketing plan can be beneficial. Independent publishers can get books out sooner than larger houses and must make every book count, which can mean a lot to you over time."
      ],
      "text/plain": [
       "<IPython.core.display.Markdown object>"
      ]
     },
     "metadata": {},
     "output_type": "display_data"
    }
   ],
   "source": [
    "display(Markdown(response['result']))"
   ]
  },
  {
   "cell_type": "code",
   "execution_count": 194,
   "id": "475d3456",
   "metadata": {},
   "outputs": [
    {
     "data": {
      "text/plain": [
       "{'question': \"What's the best method to start self-publishing?\",\n",
       " 'result': \"The best method to start self-publishing is to develop a plan and strategy for producing a readable, attractive book and getting it out there. It's important to hire a quality editor, proofreader, book designer, and publicist. Print-on-demand (POD) companies can print and ship books as they receive orders and list the book with online bookstores and certain chain stores. Independent publishers can get books out sooner and buy books that will backlist, but staying in print for a long time may not happen with larger New York houses. However, it's important to keep in mind that self-publishing requires extensive time and energy for publicity and marketing, and it may have unintended consequences on future publishing endeavors. Therefore, it's crucial to have a marketing and publicity plan in place and to be highly effective at publicity and marketing.\",\n",
       " 'context_summaries': \"Self-publishing can be a good option for authors who want to quickly get their book out, but it requires extensive time and energy for publicity and marketing. It's important to have a marketing and publicity plan in place, and to hire professionals to ensure the book is top quality. Self-publishing may have unintended consequences on future publishing endeavors, as low sales numbers can make it difficult for agents and traditional publishers to sell the book. The lack of distribution is also a challenge, and it's recommended to have a fan base and be highly effective at publicity and marketing. It's important to develop a plan and strategy for producing a readable, attractive book and getting it out there, and to hire a quality editor, proofreader, book designer, and publicist. POD companies can print and ship books as they receive orders and list the book with online bookstores and certain chain stores. Independent publishers can get books out sooner and buy books that will backlist, but staying in print for a long time may not happen with larger New York houses.\"}"
      ]
     },
     "execution_count": 194,
     "metadata": {},
     "output_type": "execute_result"
    }
   ],
   "source": [
    "response"
   ]
  },
  {
   "cell_type": "code",
   "execution_count": 185,
   "id": "bae07de4",
   "metadata": {},
   "outputs": [],
   "source": [
    "langchain.debug = False"
   ]
  },
  {
   "cell_type": "code",
   "execution_count": null,
   "id": "9f9d0e68",
   "metadata": {},
   "outputs": [],
   "source": []
  }
 ],
 "metadata": {
  "kernelspec": {
   "display_name": "llms_langchain",
   "language": "python",
   "name": "llms_langchain"
  },
  "language_info": {
   "codemirror_mode": {
    "name": "ipython",
    "version": 3
   },
   "file_extension": ".py",
   "mimetype": "text/x-python",
   "name": "python",
   "nbconvert_exporter": "python",
   "pygments_lexer": "ipython3",
   "version": "3.9.6"
  }
 },
 "nbformat": 4,
 "nbformat_minor": 5
}
